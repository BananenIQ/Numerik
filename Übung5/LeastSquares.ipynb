{
 "cells": [
  {
   "cell_type": "code",
   "execution_count": 33,
   "id": "def7c03f-8a38-410b-837b-835e926749b1",
   "metadata": {
    "ExecuteTime": {
     "end_time": "2023-11-14T21:07:42.193259400Z",
     "start_time": "2023-11-14T21:07:42.160812Z"
    }
   },
   "outputs": [],
   "source": [
    "import numpy as np\n",
    "\n",
    "\n",
    "def QR(A):\n",
    "    \"\"\"Given a matrix A with full column rank this function uses the classical \n",
    "       Gram-Schmidt algorithm to compute a QR decomposition. It returns a tuple \n",
    "       (Q, R) of np.matrix objects with Q having shape identical to A and Q*R=A.\"\"\"\n",
    "\n",
    "    Q = np.matrix(np.zeros_like(A))\n",
    "    qn = np.matrix(np.zeros_like(A))\n",
    "    for n in range(A.shape[1]):\n",
    "        v = np.matrix(A[:, n]).T\n",
    "        q = np.matrix(np.zeros(A.shape))\n",
    "\n",
    "        for i in range(n):\n",
    "            q[:, n] += np.multiply(np.dot(v.T, Q[:, i]) / np.linalg.norm(Q[:, i]) ** 2, Q[:, i])\n",
    "\n",
    "        qn[:, n] = v - q[:, n]\n",
    "        Q[:, n] = (v - q[:, n]) * (1 / np.linalg.norm((v - q[:, n])))\n",
    "\n",
    "    n = A.shape[1]\n",
    "    R = np.matrix(np.zeros((n, n), dtype=A.dtype))\n",
    "\n",
    "    for i in range(A.shape[1]):\n",
    "        for j in range(i, A.shape[1]):\n",
    "            if i == j:\n",
    "                R[i, j] = np.linalg.norm(qn[:, i])\n",
    "            else:\n",
    "                R[i, j] = (A[:, j].T * qn[:, i]) / R[i, i]\n",
    "    return Q, R\n",
    "\n",
    "\n",
    "def BackSubstitution(R, y):\n",
    "    \"\"\"Given a square upper triangular matrix R and a vector y of same size this \n",
    "       function solves R*x=y using backward substitution and returns x.\"\"\"\n",
    "    n = R.shape[1]\n",
    "    x = np.matrix(np.zeros((n, 1), dtype=np.dtype))\n",
    "\n",
    "    for i in range(n - 1, -1, -1):\n",
    "\n",
    "        ux = 0\n",
    "        for j in range(i + 1, n):\n",
    "            ux += R[i, j] * x[j]\n",
    "        x[i] = (y[i] - ux) / R[i, i]\n",
    "\n",
    "    return x\n",
    "\n",
    "\n",
    "def LeastSquares(A, b):\n",
    "    \"\"\"Given a matrix A and a vector b this function solves the least squares \n",
    "       problem of minimizing |A*x-b| and returns the optimal x.\"\"\"\n",
    "    Q, R = QR(A)\n",
    "    b = np.matrix(b).T\n",
    "    x = BackSubstitution(R, Q.T * b)\n",
    "    return x"
   ]
  },
  {
   "cell_type": "code",
   "execution_count": 34,
   "id": "1dc17368-9035-41ef-a53f-85b642ed76c9",
   "metadata": {
    "ExecuteTime": {
     "end_time": "2023-11-14T21:07:42.194259600Z",
     "start_time": "2023-11-14T21:07:42.166812700Z"
    }
   },
   "outputs": [
    {
     "name": "stdout",
     "output_type": "stream",
     "text": [
      "If the following numbers are nearly zero, QR seems to be working.\n",
      "7.021666937153402e-16\n",
      "5.964048762105091e-16\n",
      "If the following number is nearly zero, least squares solving seems to be working.\n",
      "5.444062243482319e-15\n"
     ]
    },
    {
     "name": "stderr",
     "output_type": "stream",
     "text": [
      "C:\\Users\\kryst\\AppData\\Local\\Temp\\ipykernel_17720\\1425517690.py:29: DeprecationWarning: Conversion of an array with ndim > 0 to a scalar is deprecated, and will error in future. Ensure you extract a single element from your array before performing this operation. (Deprecated NumPy 1.25.)\n",
      "  R[i, j] = (A[:, j].T * qn[:, i]) / R[i, i]\n"
     ]
    }
   ],
   "source": [
    "if __name__ == \"__main__\":\n",
    "    # Try the QR decomposition\n",
    "    A = np.array([\n",
    "        [1.0, 1.0, 1.0],\n",
    "        [1.0, 2.0, 3.0],\n",
    "        [1.0, 4.0, 9.0],\n",
    "        [1.0, 8.0, 27.0]\n",
    "    ])\n",
    "    Q, R = QR(A)\n",
    "    print(\"If the following numbers are nearly zero, QR seems to be working.\")\n",
    "    print(np.linalg.norm(Q @ R - A))\n",
    "    print(np.linalg.norm(np.conj(Q.T) @ Q - np.eye(3)))\n",
    "    # Try solving a least squares system\n",
    "    b = np.array([1.0, 2.0, 3.0, 4.0]).T\n",
    "    x = LeastSquares(A, b)\n",
    "    print(\"If the following number is nearly zero, least squares solving seems to be working.\")\n",
    "    print(np.linalg.norm(x.T - np.linalg.lstsq(A, b, rcond=-1)[0]))"
   ]
  }
 ],
 "metadata": {
  "kernelspec": {
   "display_name": "Python 3 (ipykernel)",
   "language": "python",
   "name": "python3"
  },
  "language_info": {
   "codemirror_mode": {
    "name": "ipython",
    "version": 3
   },
   "file_extension": ".py",
   "mimetype": "text/x-python",
   "name": "python",
   "nbconvert_exporter": "python",
   "pygments_lexer": "ipython3",
   "version": "3.11.4"
  }
 },
 "nbformat": 4,
 "nbformat_minor": 5
}
