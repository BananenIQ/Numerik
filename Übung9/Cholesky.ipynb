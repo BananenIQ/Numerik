{
 "cells": [
  {
   "cell_type": "code",
   "execution_count": 16,
   "id": "f132b9b7-cedc-4e7d-968f-26361905016d",
   "metadata": {
    "ExecuteTime": {
     "end_time": "2023-12-11T22:11:54.716815500Z",
     "start_time": "2023-12-11T22:11:54.681815800Z"
    }
   },
   "outputs": [],
   "source": [
    "import numpy as np\n",
    "from IPython.display import Markdown, display\n",
    "\n",
    "def print_md(md):\n",
    "    display(Markdown(md))\n",
    "def format_complex(num):\n",
    "    if num.imag == 0:\n",
    "        return str(num.real)\n",
    "    elif num.imag == 1:\n",
    "        return \"i\" if num.real == 0 else str(num.real) + \"+i\"\n",
    "    elif num.imag == -1:\n",
    "        return \"-i\" if num.real == 0 else str(num.real) + \"-i\"\n",
    "    else:\n",
    "        if num.real == 0:\n",
    "            return f\"{num.imag}i\"\n",
    "        return f\"{num.real}+{num.imag}i\" if num.imag >= 0 else f\"{num.real}{num.imag}i\"\n",
    "def array_to_md(A, precision=5):\n",
    "    A = np.round(A, precision)\n",
    "    md = \"$\\\\begin{pmatrix}\"\n",
    "    for i in range(A.shape[0]):\n",
    "        for j in range(A.shape[1]):\n",
    "            entry = format_complex(A[i,j])\n",
    "            md += entry + \"&\"\n",
    "        md = md[:-1] + '\\\\\\\\' # strip last & and add \\\\\n",
    "    md = md[:-2] # strip last \\\\\n",
    "    md += \"\\\\end{pmatrix}$\"\n",
    "    return md"
   ]
  },
  {
   "cell_type": "code",
   "execution_count": 17,
   "id": "174b5c2c-5f12-41d2-822f-f36c1b49bc7e",
   "metadata": {
    "ExecuteTime": {
     "end_time": "2023-12-11T22:11:54.760815400Z",
     "start_time": "2023-12-11T22:11:54.692816500Z"
    }
   },
   "outputs": [],
   "source": [
    "def Cholesky(A):\n",
    "    \"\"\"Performs a Cholesky decomposition of A, which must \n",
    "    be a symmetric and positive definite matrix. The function\n",
    "    returns the upper variant triangular matrix, R.\"\"\"\n",
    "    R = np.zeros_like(A)\n",
    "    n = len(A)\n",
    "    for j in range(n):\n",
    "        for k in range(j+1):\n",
    "            s = sum(R[j][i] * R[k][i] for i in range(k))\n",
    "            if j == k:\n",
    "                R[j][k] = np.sqrt(A[j][j] - s)\n",
    "            else:\n",
    "                R[j][k] = (1.0 / R[k][k] * (A[j][k] - s))\n",
    "    \n",
    "    return R.T"
   ]
  },
  {
   "cell_type": "code",
   "execution_count": 18,
   "id": "3e6ed63c-75e0-4220-9658-c2199ff1d9a7",
   "metadata": {
    "ExecuteTime": {
     "end_time": "2023-12-11T22:11:54.785820200Z",
     "start_time": "2023-12-11T22:11:54.708817300Z"
    }
   },
   "outputs": [
    {
     "data": {
      "text/plain": "<IPython.core.display.Markdown object>",
      "text/markdown": "$A=$$\\begin{pmatrix}0.65162&0.18529&0.73471\\\\0.18529&0.1771&0.35252\\\\0.73471&0.35252&1.0972\\end{pmatrix}$"
     },
     "metadata": {},
     "output_type": "display_data"
    },
    {
     "name": "stdout",
     "output_type": "stream",
     "text": [
      "Matrix is symmetric: ✅\n",
      "Matrix is positive definite: ✅\n"
     ]
    },
    {
     "data": {
      "text/plain": "<IPython.core.display.Markdown object>",
      "text/markdown": "Eigenvalues: $\\begin{pmatrix}1.7413&0.15333&0.03129\\end{pmatrix}$"
     },
     "metadata": {},
     "output_type": "display_data"
    },
    {
     "data": {
      "text/plain": "<IPython.core.display.Markdown object>",
      "text/markdown": "$R =$ $\\begin{pmatrix}0.80723&0.22954&0.91016\\\\0.0&0.35273&0.40713\\\\0.0&0.0&0.32101\\end{pmatrix}$"
     },
     "metadata": {},
     "output_type": "display_data"
    },
    {
     "data": {
      "text/plain": "<IPython.core.display.Markdown object>",
      "text/markdown": "$R$ is upper triangular: ✅"
     },
     "metadata": {},
     "output_type": "display_data"
    },
    {
     "data": {
      "text/plain": "<IPython.core.display.Markdown object>",
      "text/markdown": "$R^*R =$ $\\begin{pmatrix}0.65162&0.18529&0.73471\\\\0.18529&0.1771&0.35252\\\\0.73471&0.35252&1.0972\\end{pmatrix}$ $\\stackrel{?}{=}$ $\\begin{pmatrix}0.65162&0.18529&0.73471\\\\0.18529&0.1771&0.35252\\\\0.73471&0.35252&1.0972\\end{pmatrix}$"
     },
     "metadata": {},
     "output_type": "display_data"
    },
    {
     "data": {
      "text/plain": "<IPython.core.display.Markdown object>",
      "text/markdown": "A is close to $R^* R$: ✅"
     },
     "metadata": {},
     "output_type": "display_data"
    }
   ],
   "source": [
    "#A = np.array([[1,2,1], [2,8,2], [1,2,2]])\n",
    "# Generate a random symmetric and positiv definite matrix\n",
    "A = np.random.rand(3,3)\n",
    "A = A.T @ A\n",
    "\n",
    "evals, evec = np.linalg.eig(A)\n",
    "evals = np.round(evals, 5)\n",
    "print_md(\"$A=$\" + array_to_md(A.round(5)))\n",
    "print(\"Matrix is symmetric:\", (\"✅\" if (A == A.T).all() else \"❌\"))\n",
    "print(\"Matrix is positive definite:\", (\"✅\" if (evals > 0).all() else \"❌\")) # All eigenvalues are positive\n",
    "print_md(\"Eigenvalues: \" + array_to_md(evals.reshape(1, -1)))\n",
    "R = Cholesky(A)\n",
    "print_md(\"$R =$ \" + array_to_md(R.round(5)))\n",
    "print_md(\"$R$ is upper triangular: \" + (\"✅\" if (R==np.triu(R)).all() else \"❌\"))\n",
    "print_md(\"$R^*R =$ \" + array_to_md((R.T @ R).round(5)) + \" $\\\\stackrel{?}{=}$ \" + array_to_md(A))\n",
    "print_md(\"A is close to $R^* R$: \" + (\"✅\" if np.allclose(A, R.T @ R) else \"❌\"))"
   ]
  }
 ],
 "metadata": {
  "kernelspec": {
   "display_name": "Python 3 (ipykernel)",
   "language": "python",
   "name": "python3"
  },
  "language_info": {
   "codemirror_mode": {
    "name": "ipython",
    "version": 3
   },
   "file_extension": ".py",
   "mimetype": "text/x-python",
   "name": "python",
   "nbconvert_exporter": "python",
   "pygments_lexer": "ipython3",
   "version": "3.11.6"
  }
 },
 "nbformat": 4,
 "nbformat_minor": 5
}
