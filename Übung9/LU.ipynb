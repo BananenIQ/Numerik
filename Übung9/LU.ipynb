{
 "cells": [
  {
   "cell_type": "code",
   "execution_count": 38,
   "id": "9d937768-a264-4d4d-9370-d47d567bce42",
   "metadata": {
    "ExecuteTime": {
     "end_time": "2023-12-11T21:56:55.916342700Z",
     "start_time": "2023-12-11T21:56:55.874342700Z"
    }
   },
   "outputs": [],
   "source": [
    "import numpy as np\n",
    "from IPython.display import Markdown, display\n",
    "\n",
    "\n",
    "def print_md(md):\n",
    "    display(Markdown(md))\n",
    "\n",
    "\n",
    "def array_to_md(A, precision=5):\n",
    "    A = np.round(A, precision)\n",
    "    md = \"$\\\\begin{pmatrix}\"\n",
    "    for i in range(A.shape[0]):\n",
    "        for j in range(A.shape[1]):\n",
    "            entry = str(A[i, j])\n",
    "            md += entry + \"&\"\n",
    "        md = md[:-1] + '\\\\\\\\'  # strip last & and add \\\\\n",
    "    md = md[:-2]  # strip last \\\\\n",
    "    md += \"\\\\end{pmatrix}$\"\n",
    "    return md"
   ]
  },
  {
   "cell_type": "code",
   "execution_count": 39,
   "id": "8bbeb9e9-a9f3-46c0-bf49-b2e91dab175b",
   "metadata": {
    "ExecuteTime": {
     "end_time": "2023-12-11T21:56:55.972342200Z",
     "start_time": "2023-12-11T21:56:55.918347700Z"
    }
   },
   "outputs": [],
   "source": [
    "def LUP(A):\n",
    "    \"\"\"Computes and returns an LU decomposition with pivoting. The return value  \n",
    "       is a tuple (L,U,P) and fulfills L*U=P*A (* is matrix-multiplication).\"\"\"\n",
    "    n = len(A)\n",
    "    A = A.copy()\n",
    "    L = np.identity(n)\n",
    "    U = np.zeros((n, n))\n",
    "    P = np.identity(n)\n",
    "    \n",
    "\n",
    "    for i in range(n):\n",
    "        max_val = abs(A[i][i])\n",
    "        max_row = i\n",
    "        for j in range(i + 1, n):\n",
    "            if abs(A[j][i]) > max_val:\n",
    "                max_val = abs(A[j][i])\n",
    "                max_row = j\n",
    "        if i != max_row:\n",
    "            A[[i, max_row]] = A[[max_row, i]]\n",
    "            L[[i, max_row],:i] = L[[max_row, i],:i]\n",
    "            P[[i, max_row]] = P[[max_row, i]]\n",
    "        for j in range(i + 1, n):\n",
    "            L[j][i] = A[j][i] / A[i][i]\n",
    "            for k in range(i, n):\n",
    "                A[j][k] = A[j][k] - L[j][i] * A[i][k]\n",
    "    U = A\n",
    "\n",
    "\n",
    "    return L, U, P\n",
    "\n",
    "\n",
    "def ForwardSubstitution(L, b):\n",
    "    \"\"\"Solves the linear system of equations L*x=b assuming that L is a left lower \n",
    "       triangular matrix. It returns x as column vector.\"\"\"\n",
    "    n = len(L)\n",
    "    x = [0] * n\n",
    "\n",
    "    for i in range(n):\n",
    "        x[i] = b[i]\n",
    "        for j in range(i):\n",
    "            x[i] -= L[i][j] * x[j]\n",
    "        x[i] /= L[i][i]\n",
    "    \n",
    "    return x\n",
    "\n",
    "\n",
    "def BackSubstitution(U, b):\n",
    "    \"\"\"Solves the linear system of equations U*x=b assuming that U is a right upper \n",
    "       triangular matrix. It returns x as column vector.\"\"\"\n",
    "    n = len(U)\n",
    "    x = [0] * n\n",
    "\n",
    "    for i in range(n - 1, -1, -1):\n",
    "        x[i] = b[i]\n",
    "        for j in range(i + 1, n):\n",
    "            x[i] -= U[i][j] * x[j]\n",
    "        x[i] /= U[i][i]\n",
    "    \n",
    "    return x\n",
    "\n",
    "\n",
    "def SolveLinearSystemLUP(A, b):\n",
    "    \"\"\"Given a square array A and a matching vector b this function solves the \n",
    "       linear system of equations A*x=b using a pivoted LU decomposition and returns \n",
    "       x.\"\"\"\n",
    "    L, U, P = LUP(A)\n",
    "    \n",
    "    y = P@b\n",
    "    x = ForwardSubstitution(L, y)\n",
    "    x = BackSubstitution(U, x)\n",
    "    \n",
    "    return x\n",
    "\n",
    "\n",
    "def LeastSquares(B, c):\n",
    "    \"\"\"Given a matrix A and a vector b this function solves the least squares \n",
    "       problem of minimizing |A*x-b| and returns the optimal x.\"\"\"\n",
    "    A = B.T@B\n",
    "    b = B.T@c\n",
    "    \n",
    "    x = SolveLinearSystemLUP(A, b)\n",
    "    x = np.array(x)\n",
    "    \n",
    "    return x"
   ]
  },
  {
   "cell_type": "code",
   "execution_count": 40,
   "id": "a1d427d5-c1ee-4b06-9273-6826804ec6fe",
   "metadata": {
    "ExecuteTime": {
     "end_time": "2023-12-11T21:56:56.015343100Z",
     "start_time": "2023-12-11T21:56:55.948346900Z"
    }
   },
   "outputs": [
    {
     "data": {
      "text/plain": "<IPython.core.display.Markdown object>",
      "text/markdown": "$A=$$\\begin{pmatrix}1.0&2.0&6.0\\\\4.0&8.0&-1.0\\\\2.0&3.0&5.0\\end{pmatrix}$"
     },
     "metadata": {},
     "output_type": "display_data"
    },
    {
     "data": {
      "text/plain": "<IPython.core.display.Markdown object>",
      "text/markdown": "$L=$$\\begin{pmatrix}1.0&0.0&0.0\\\\0.5&1.0&0.0\\\\0.25&-0.0&1.0\\end{pmatrix}$"
     },
     "metadata": {},
     "output_type": "display_data"
    },
    {
     "data": {
      "text/plain": "<IPython.core.display.Markdown object>",
      "text/markdown": "$U=$$\\begin{pmatrix}4.0&8.0&-1.0\\\\0.0&-1.0&5.5\\\\0.0&0.0&6.25\\end{pmatrix}$"
     },
     "metadata": {},
     "output_type": "display_data"
    },
    {
     "data": {
      "text/plain": "<IPython.core.display.Markdown object>",
      "text/markdown": "$P=$$\\begin{pmatrix}0.0&1.0&0.0\\\\0.0&0.0&1.0\\\\1.0&0.0&0.0\\end{pmatrix}$"
     },
     "metadata": {},
     "output_type": "display_data"
    },
    {
     "data": {
      "text/plain": "<IPython.core.display.Markdown object>",
      "text/markdown": "$LU=$$\\begin{pmatrix}4.0&8.0&-1.0\\\\2.0&3.0&5.0\\\\1.0&2.0&6.0\\end{pmatrix}$$\\stackrel{?}{=}$$\\begin{pmatrix}4.0&8.0&-1.0\\\\2.0&3.0&5.0\\\\1.0&2.0&6.0\\end{pmatrix}$=PA"
     },
     "metadata": {},
     "output_type": "display_data"
    },
    {
     "name": "stdout",
     "output_type": "stream",
     "text": [
      "This should be near zero (LUP check): 0.0\n",
      "This should be near zero (SolveLinearSystemLUP check): 4.440892098500626e-16\n",
      "This should be near zero (LeastSquares check): 3.1985215122904828e-15\n"
     ]
    }
   ],
   "source": [
    "# A test matrix where LU fails but LUP works fine\n",
    "A = np.array([[1, 2, 6],\n",
    "              [4, 8, -1],\n",
    "              [2, 3, 5]], dtype=np.double)\n",
    "b = np.array([[1], [2], [3]], dtype=np.double)\n",
    "# Test the LUP-decomposition\n",
    "L, U, P = LUP(A)\n",
    "print_md(\"$A=$\" + array_to_md(A))\n",
    "print_md(\"$L=$\" + array_to_md(L))\n",
    "print_md(\"$U=$\" + array_to_md(U))\n",
    "print_md(\"$P=$\" + array_to_md(P))\n",
    "print_md(\"$LU=$\" + array_to_md(L @ U) + \"$\\\\stackrel{?}{=}$\" + array_to_md(P @ A) + \"=PA\")\n",
    "print(\"This should be near zero (LUP check): \" + str(np.linalg.norm(np.dot(L, U) - np.dot(P, A))))\n",
    "# Test the method for solving a system of linear equations\n",
    "print(\"This should be near zero (SolveLinearSystemLUP check): \" + str(\n",
    "    np.linalg.norm(np.dot(A, SolveLinearSystemLUP(A, b)) - b)))\n",
    "# Test the method for solving linear least squares\n",
    "A = np.random.rand(6, 4)\n",
    "b = np.random.rand(6)\n",
    "print(\"This should be near zero (LeastSquares check): \" + str(\n",
    "    np.linalg.norm(LeastSquares(A, b).flat - np.linalg.lstsq(A, b, rcond=None)[0])))"
   ]
  }
 ],
 "metadata": {
  "kernelspec": {
   "display_name": "Python 3 (ipykernel)",
   "language": "python",
   "name": "python3"
  },
  "language_info": {
   "codemirror_mode": {
    "name": "ipython",
    "version": 3
   },
   "file_extension": ".py",
   "mimetype": "text/x-python",
   "name": "python",
   "nbconvert_exporter": "python",
   "pygments_lexer": "ipython3",
   "version": "3.11.6"
  }
 },
 "nbformat": 4,
 "nbformat_minor": 5
}
