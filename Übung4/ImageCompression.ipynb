{
 "cells": [
  {
   "cell_type": "code",
   "execution_count": null,
   "id": "7b97f06d-97bb-4c2d-a67b-62d14d6ca3b1",
   "metadata": {},
   "outputs": [],
   "source": [
    "import numpy\n",
    "import numpy as np\n",
    "from PIL import Image\n",
    "from matplotlib import cm, pyplot\n",
    "from matplotlib.pyplot import figure\n",
    "\n",
    "\n",
    "def Compress(img, ComponentCount):\n",
    "    \"\"\"This function uses a singular value decomposition to compress an image.\n",
    "    \\param Image An quadratic array providing the image. Entries provide the\n",
    "           brightness of indidividual pixels, rows correspond to scanlines.\n",
    "    \\param ComponentCount The number of singular values to be maintained in the\n",
    "           compressed representation.\n",
    "    \\return A tuple (U,SingularValues,V,CompressionRatio) such that U*Sigma*V^*\n",
    "            provides an approximation to the original image when Sigma is a\n",
    "            diagonal matrix with SingularValues on its main diagonal.\n",
    "            CompressionRatio should provide the quotient of the number of scalars\n",
    "            in Image and the number of scalars in the returned representation of\n",
    "            Image.\"\"\"\n",
    "    return (np.zeros(img.shape), np.zeros(img.shape[1]), np.zeros(img.shape).T, 0) # TODO: Implement the function\n",
    "\n",
    "\n",
    "def Decompress(U, SingularValues, V):\n",
    "    \"\"\"Given a compressed representation of an image as produced by Compress() this\n",
    "    function reconstructs the original image approximately and returns it.\"\"\"\n",
    "    return np.zeros((U.shape[0], V.shape[0])) # TODO implement the function"
   ]
  },
  {
   "cell_type": "code",
   "execution_count": null,
   "id": "8cbf4424-f628-43e3-9c72-4df77212b0de",
   "metadata": {},
   "outputs": [],
   "source": [
    "# Define the task\n",
    "ImageFileNameList = [\"Lena\", \"Stoff\", \"Stoff2\"]\n",
    "ComponentCountList = [1, 4, 8, 32, 64]\n",
    "# Iterate over all tasks and generate one large plot\n",
    "PlotIndex = 1\n",
    "figure(figsize=(15, 8), dpi=96)\n",
    "for ImageFileName in ImageFileNameList:\n",
    "    print(ImageFileName)\n",
    "    ImagePath = ImageFileName + \".png\"\n",
    "    img = Image.open(ImagePath)\n",
    "\n",
    "    # Convert to numpy array\n",
    "    imgmat = np.array(list(img.getdata(band=0)), float)\n",
    "    # Reshape according to orginal image dimensions\n",
    "    imgmat.shape = (img.size[1], img.size[0])\n",
    "    imgmat = np.matrix(imgmat)\n",
    "\n",
    "    # Compressed Images\n",
    "    for ComponentCount in ComponentCountList:\n",
    "        # Define a subplot for this decompressed image\n",
    "        Axes = pyplot.subplot(\n",
    "            len(ImageFileNameList), len(ComponentCountList) + 1, PlotIndex\n",
    "        )\n",
    "        Axes.set_xticks([])\n",
    "        Axes.set_yticks([])\n",
    "        Axes.set_title(ImageFileName + \", p=\" + str(ComponentCount))\n",
    "        PlotIndex += 1\n",
    "\n",
    "        # Apply compression\n",
    "        U, SingularValues, V, CompressionRatio = Compress(imgmat, ComponentCount)\n",
    "        # Apply decompression\n",
    "        DecompressedImage = Decompress(U, SingularValues, V)\n",
    "\n",
    "        # Show the result\n",
    "        pyplot.imshow(DecompressedImage, cmap=cm.gray)\n",
    "        # Compute and print the compression ratio\n",
    "        print(\n",
    "            \"Compression ratio for p=\"\n",
    "            + str(ComponentCount)\n",
    "            + \" is \"\n",
    "            + str(CompressionRatio)\n",
    "            + \":1.\"\n",
    "        )\n",
    "\n",
    "    # Original Image\n",
    "    Axes = pyplot.subplot(\n",
    "        len(ImageFileNameList), len(ComponentCountList) + 1, PlotIndex\n",
    "    )\n",
    "    Axes.set_xticks([])\n",
    "    Axes.set_yticks([])\n",
    "    Axes.set_title(ImageFileName + \", original\")\n",
    "    pyplot.imshow(imgmat, cmap=cm.gray)\n",
    "    PlotIndex += 1\n",
    "\n",
    "    print(\"\")\n",
    "pyplot.show()"
   ]
  },
  {
   "cell_type": "code",
   "execution_count": null,
   "id": "74065f0e-cba6-4ac3-8538-1b4405b37ed8",
   "metadata": {},
   "outputs": [],
   "source": [
    "# Bonus Exercise: Store a compressed image as NPZ file"
   ]
  },
  {
   "cell_type": "code",
   "execution_count": null,
   "id": "4e0487a1-18f7-4cc8-a1f9-4764d9ae86a7",
   "metadata": {},
   "outputs": [],
   "source": [
    "# Bonus Exercise: Load a compressed image from a NPZ file"
   ]
  }
 ],
 "metadata": {
  "kernelspec": {
   "display_name": "Python 3 (ipykernel)",
   "language": "python",
   "name": "python3"
  },
  "language_info": {
   "codemirror_mode": {
    "name": "ipython",
    "version": 3
   },
   "file_extension": ".py",
   "mimetype": "text/x-python",
   "name": "python",
   "nbconvert_exporter": "python",
   "pygments_lexer": "ipython3",
   "version": "3.11.4"
  }
 },
 "nbformat": 4,
 "nbformat_minor": 5
}
