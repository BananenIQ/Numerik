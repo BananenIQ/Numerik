{
 "cells": [
  {
   "cell_type": "code",
   "execution_count": 13,
   "id": "e889951b-6781-4363-aea1-9f98084d17ac",
   "metadata": {
    "ExecuteTime": {
     "end_time": "2024-01-08T16:13:38.884918400Z",
     "start_time": "2024-01-08T16:13:38.838651400Z"
    }
   },
   "outputs": [],
   "source": [
    "import numpy as np"
   ]
  },
  {
   "cell_type": "code",
   "execution_count": 14,
   "id": "8187c66b-aec2-4457-83da-76544dd1529e",
   "metadata": {
    "ExecuteTime": {
     "end_time": "2024-01-08T16:13:38.886913900Z",
     "start_time": "2024-01-08T16:13:38.856621400Z"
    }
   },
   "outputs": [],
   "source": [
    "def QRAlgorithm(A):\n",
    "    \"\"\"Computes the Eigenvalues of the given matrix and returns them.\"\"\"\n",
    "    for k in range(100):\n",
    "        Q,R = np.linalg.qr(A)\n",
    "        A = R @ Q\n",
    "    \n",
    "    return np.diag(A)"
   ]
  },
  {
   "cell_type": "code",
   "execution_count": 15,
   "id": "fe51bf8d-781e-4107-8ed8-98771a925a2c",
   "metadata": {
    "ExecuteTime": {
     "end_time": "2024-01-08T16:13:38.994806900Z",
     "start_time": "2024-01-08T16:13:38.901394200Z"
    }
   },
   "outputs": [
    {
     "name": "stdout",
     "output_type": "stream",
     "text": [
      "Eigenvalues computed by QRAlgorithm(): [-0.9811157744837267, -0.36089538336605514, 0.46768996850158406, 1.5611449939283695, 5.136277917735326]\n",
      "Eigenvalues computed by numpy.linalg.eigh(): [-0.9811157744837279, -0.3608953833660553, 0.467689968501584, 1.5611449939283712, 5.136277917735323]\n",
      "All close: ✅\n"
     ]
    }
   ],
   "source": [
    "if __name__==\"__main__\":\n",
    "    A = np.random.rand(5,5)\n",
    "    A += A.T\n",
    "    eval1 = sorted(QRAlgorithm(A))\n",
    "    eval2 = sorted(sorted(np.linalg.eigh(A)[0]))\n",
    "    print('Eigenvalues computed by QRAlgorithm():', eval1)\n",
    "    print('Eigenvalues computed by numpy.linalg.eigh():', eval2)\n",
    "    print('All close:', (\"✅\" if np.allclose(eval1, eval2) else \"❌\"))"
   ]
  }
 ],
 "metadata": {
  "kernelspec": {
   "display_name": "Python 3 (ipykernel)",
   "language": "python",
   "name": "python3"
  },
  "language_info": {
   "codemirror_mode": {
    "name": "ipython",
    "version": 3
   },
   "file_extension": ".py",
   "mimetype": "text/x-python",
   "name": "python",
   "nbconvert_exporter": "python",
   "pygments_lexer": "ipython3",
   "version": "3.11.6"
  }
 },
 "nbformat": 4,
 "nbformat_minor": 5
}
