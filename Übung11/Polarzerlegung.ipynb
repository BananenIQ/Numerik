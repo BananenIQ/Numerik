{
 "cells": [
  {
   "cell_type": "code",
   "execution_count": null,
   "id": "3bdc850d-4270-42fa-93b4-129985c7d5db",
   "metadata": {},
   "outputs": [],
   "source": [
    "import numpy as np\n",
    "from matplotlib import pyplot as plt\n",
    "from matplotlib.lines import Line2D \n",
    "import timeit\n",
    "from IPython.display import Markdown, display\n",
    "\n",
    "def print_md(md):\n",
    "    display(Markdown(md))\n",
    "def array_to_md(A, precision=5):\n",
    "    A = np.round(A, precision)\n",
    "    md = \"$\\\\begin{pmatrix}\"\n",
    "    for i in range(A.shape[0]):\n",
    "        for j in range(A.shape[1]):\n",
    "            entry = str(A[i,j])\n",
    "            md += entry + \"&\"\n",
    "        md = md[:-1] + '\\\\\\\\' # strip last & and add \\\\\n",
    "    md = md[:-2] # strip last \\\\\n",
    "    md += \"\\\\end{pmatrix}$\"\n",
    "    return md"
   ]
  },
  {
   "cell_type": "code",
   "execution_count": null,
   "id": "2b4f2466-c105-4ca3-8c41-d7ef463c8c6b",
   "metadata": {},
   "outputs": [],
   "source": [
    "def PD_svd(A):\n",
    "    return np.zeros((2,2)), np.zeros((2,2)) # TODO: Implement the method\n",
    "\n",
    "def PD_iterative(A, it=10):\n",
    "    return np.zeros((2,2)), np.zeros((2,2)) # TODO: Implement the method"
   ]
  },
  {
   "cell_type": "code",
   "execution_count": null,
   "id": "8b16402d-8b2f-4a61-8dd7-5c7a3b008ea8",
   "metadata": {},
   "outputs": [],
   "source": [
    "def plot_square(matrices, labels):\n",
    "    points = np.matrix([\n",
    "        [0,0],\n",
    "        [1,0],\n",
    "        [1,1],\n",
    "        [0,1]\n",
    "    ]).T\n",
    "\n",
    "    fig, axs  = plt.subplots(1, len(matrices), figsize=(5*len(matrices), 5))\n",
    "    if len(matrices) == 1:\n",
    "        axs = [axs]\n",
    "    for i in range(len(matrices)):\n",
    "        points_transformed =  matrices[i] * points\n",
    "        axs[i].set_title(labels[i])\n",
    "        axs[i].set_xlim(-1, 2)\n",
    "        axs[i].set_ylim(-1, 2)\n",
    "        for j in range(points.shape[1]):\n",
    "            X = points_transformed[0,j], points_transformed[0,(j+1)%points.shape[1]]\n",
    "            Y = points_transformed[1,j], points_transformed[1,(j+1)%points.shape[1]]\n",
    "            line = Line2D(X, Y)\n",
    "            axs[i].add_line(line)\n",
    "    plt.show()"
   ]
  },
  {
   "cell_type": "code",
   "execution_count": null,
   "id": "71091e6c",
   "metadata": {},
   "outputs": [],
   "source": [
    "def plot_tree(matrices, labels):\n",
    "    points = np.matrix([\n",
    "        [0,1],\n",
    "        [0.2, 0.7],\n",
    "        [0.1, 0.7],\n",
    "        [0.3, 0.5],\n",
    "        [0.2, 0.5],\n",
    "        [0.38, 0.3],\n",
    "        [0.25, 0.3],\n",
    "        [0.45, 0.1],\n",
    "        [0.1, 0.1],\n",
    "        [0.1, 0.0],\n",
    "    ]).T\n",
    "    points2 = points.copy()[:,::-1]\n",
    "    points2[0] *= -1\n",
    "    points = np.hstack([points, points2])\n",
    "    points[1] -= 0.5\n",
    "\n",
    "    fig, axs  = plt.subplots(1, len(matrices), figsize=(5*len(matrices), 5))\n",
    "    if len(matrices) == 1:\n",
    "        axs = [axs]\n",
    "    for i in range(len(matrices)):\n",
    "        points_transformed =  matrices[i] * points\n",
    "        axs[i].set_xlim(-1.5, 1.5)\n",
    "        axs[i].set_ylim(-1.5, 1.5)\n",
    "        for j in range(points.shape[1]):\n",
    "            X = points_transformed[0,j], points_transformed[0,(j+1)%points.shape[1]]\n",
    "            Y = points_transformed[1,j], points_transformed[1,(j+1)%points.shape[1]]\n",
    "            line = Line2D(X, Y)\n",
    "            axs[i].add_line(line)\n",
    "    plt.show()"
   ]
  },
  {
   "cell_type": "code",
   "execution_count": null,
   "id": "9a20dc5b-02b6-4c1d-8118-8b112e9fa475",
   "metadata": {},
   "outputs": [],
   "source": [
    "A1 = np.mat(\"1.0  0.0;  0.9  1.0\")\n",
    "A2 = np.mat(\"1.0  0.25; 0.25 1.0\")\n",
    "A3 = np.mat(\"1.115 -0.335;1.0 0.372\")\n",
    "I = np.matrix(np.eye(2))\n",
    "\n",
    "for A in [A1, A2, A3]:\n",
    "    U, P = PD_svd(A)\n",
    "    print_md(\"$U=$\" + array_to_md(U,3 ) + \"$, P=$\" + array_to_md(P, 3))\n",
    "    plot_square([I, U, P, U@P, A], [\"Identität\", \"U\", \"P\", \"UP\", \"A\"])\n",
    "    plot_tree([I, U, P, U@P, A], [\"Identität\", \"U\", \"P\", \"UP\", \"A\"])"
   ]
  },
  {
   "cell_type": "code",
   "execution_count": null,
   "id": "f06343de-2da2-4e0d-b99b-473524b481d0",
   "metadata": {},
   "outputs": [],
   "source": [
    "# TODO:\n",
    "# 1) Plotte die norm von |U-U_i| und |P-P_i| für verschieden viele Iterationsschritte.\n",
    "#    Mittle dabei die Werte der Normen für 20 verschiedene Matrizen um Ausreißer durch ungünstige Zufallsmatrizen zu vermeiden\n",
    "# 2) Plotte die Rechenzeit für die Berechnung der Polarzerlegung mit SVD und mit Newtoniteration für unterschiedliche Matrixgrößen\n",
    "# 3) Plotte |P-U^{-1}A| und |P-U^*A| im gleichen Plot mit logarithmisch skalierter Y-Achse.\n",
    "#    Mittle dabei die Werte der Normen für 20 verschiedene Matrizen um Ausreißer durch ungünstige Zufallsmatrizen zu vermeiden"
   ]
  }
 ],
 "metadata": {
  "kernelspec": {
   "display_name": "Python 3 (ipykernel)",
   "language": "python",
   "name": "python3"
  },
  "language_info": {
   "codemirror_mode": {
    "name": "ipython",
    "version": 3
   },
   "file_extension": ".py",
   "mimetype": "text/x-python",
   "name": "python",
   "nbconvert_exporter": "python",
   "pygments_lexer": "ipython3",
   "version": "3.11.6"
  }
 },
 "nbformat": 4,
 "nbformat_minor": 5
}
