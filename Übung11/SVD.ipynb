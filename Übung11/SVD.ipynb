{
 "cells": [
  {
   "cell_type": "code",
   "execution_count": 65,
   "id": "b73df31f-7238-46a5-a1a7-fb1b3557e083",
   "metadata": {
    "ExecuteTime": {
     "end_time": "2024-01-08T17:05:09.947189600Z",
     "start_time": "2024-01-08T17:05:09.838185300Z"
    }
   },
   "outputs": [],
   "source": [
    "import numpy as np"
   ]
  },
  {
   "cell_type": "code",
   "execution_count": 66,
   "id": "df69b181-2486-4d46-baa3-413324c54576",
   "metadata": {
    "ExecuteTime": {
     "end_time": "2024-01-08T17:05:09.979374700Z",
     "start_time": "2024-01-08T17:05:09.965839100Z"
    }
   },
   "outputs": [],
   "source": [
    "def ComputeSVD(A):\n",
    "    \"\"\"Given a quadratic matrix this function computes the singular value \n",
    "       decomposition of this matrix using a stable numerical scheme.\n",
    "      \\return A triple (U,Sigma,V) of matrices of shape identical to A such that \n",
    "              U.dot(Sigma).dot(np.conj(V.T)) provides a singular value decomposition \n",
    "              of A. The singular values should be in descending order.\"\"\"\n",
    "    m = A.shape[0]\n",
    "    H = np.zeros((m*2,m*2))\n",
    "    H[m:2*m, 0:m] = A.conjugate()\n",
    "    H[0:m, m:2*m] = A\n",
    "    \n",
    "    eigVal, eigVec = np.linalg.eigh(H)\n",
    "    eigVal = eigVal[::-1]\n",
    "    eigVec = eigVec[:, ::-1]\n",
    "    \n",
    "    \n",
    "    normaVec = np.linalg.norm(eigVec, axis=0)\n",
    "    singVal = eigVal / normaVec\n",
    "    \n",
    "    eigVec = eigVec / normaVec\n",
    "    \n",
    "    sigma = np.diag(singVal[0:m])\n",
    "    U = eigVec[0:m, m:2*m]\n",
    "    V = eigVec[0:m, 0:m]\n",
    "    \n",
    "    \n",
    "    return U, sigma, V"
   ]
  },
  {
   "cell_type": "code",
   "execution_count": 67,
   "id": "5a8f51ea-5c4a-487d-9475-0348e5844e13",
   "metadata": {
    "ExecuteTime": {
     "end_time": "2024-01-08T17:05:10.068823500Z",
     "start_time": "2024-01-08T17:05:09.999925Z"
    }
   },
   "outputs": [
    {
     "name": "stdout",
     "output_type": "stream",
     "text": [
      "The relative error of U * Sigma * V.H is: 1.0998165113245215\n",
      "If U is unitary, the following number should be near zero: 3.1622776601683786\n",
      "❌\n",
      "If V is unitary, the following number should be near zero: 3.162277660168378\n",
      "❌\n"
     ]
    }
   ],
   "source": [
    "if __name__ == \"__main__\" :\n",
    "    # Construct a random matrix for testing\n",
    "    A = np.random.rand(40, 40)\n",
    "    U, Sigma, V = ComputeSVD(A)\n",
    "    \n",
    "    DeltaA = U.dot(Sigma).dot(np.conj(V.T))\n",
    "    print(\"The relative error of U * Sigma * V.H is: \", end='')\n",
    "    print(np.linalg.norm(A - DeltaA) / np.linalg.norm(A))\n",
    "    # Test whether U and V are unitary\n",
    "    print(\"If U is unitary, the following number should be near zero: \", end='')\n",
    "    print(np.linalg.norm(np.eye(A.shape[0]) - U.dot(np.conj(U.T))))\n",
    "    print(\"✅\" if np.allclose(np.eye(A.shape[0]), U.dot(np.conj(U.T))) else \"❌\")\n",
    "    print(\"If V is unitary, the following number should be near zero: \", end='')\n",
    "    print(np.linalg.norm(np.eye(A.shape[1], A.shape[1]) - V.dot(np.conj(V.T))))\n",
    "    print(\"✅\" if np.allclose(np.eye(A.shape[1], A.shape[1]), V.dot(np.conj(V.T))) else \"❌\")"
   ]
  }
 ],
 "metadata": {
  "kernelspec": {
   "display_name": "Python 3 (ipykernel)",
   "language": "python",
   "name": "python3"
  },
  "language_info": {
   "codemirror_mode": {
    "name": "ipython",
    "version": 3
   },
   "file_extension": ".py",
   "mimetype": "text/x-python",
   "name": "python",
   "nbconvert_exporter": "python",
   "pygments_lexer": "ipython3",
   "version": "3.11.6"
  }
 },
 "nbformat": 4,
 "nbformat_minor": 5
}
