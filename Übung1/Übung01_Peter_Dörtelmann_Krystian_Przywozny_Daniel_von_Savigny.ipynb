{
 "cells": [
  {
   "cell_type": "code",
   "execution_count": 3,
   "metadata": {
    "ExecuteTime": {
     "end_time": "2023-10-17T20:52:21.005484800Z",
     "start_time": "2023-10-17T20:52:20.256235200Z"
    }
   },
   "outputs": [],
   "source": [
    "import numpy as np\n",
    "import matplotlib.pyplot as plt"
   ]
  },
  {
   "cell_type": "markdown",
   "metadata": {
    "collapsed": false,
    "jupyter": {
     "outputs_hidden": false
    }
   },
   "source": [
    "# Numerik Abgabe 01\n",
    "- Peter Dörtelmann\n",
    "- Krystian Przywozny\n",
    "- Daniel von Savigny"
   ]
  },
  {
   "cell_type": "markdown",
   "metadata": {},
   "source": [
    "b) $A \\implies B$"
   ]
  },
  {
   "cell_type": "code",
   "execution_count": null,
   "metadata": {},
   "outputs": [],
   "source": [
    "# c) Ich mag Python nicht"
   ]
  },
  {
   "cell_type": "code",
   "execution_count": 7,
   "metadata": {},
   "outputs": [
    {
     "name": "stdout",
     "output_type": "stream",
     "text": [
      "d [[0. 0. 0. 0.]]\n",
      "e)\n",
      " [[0.]\n",
      " [0.]\n",
      " [0.]\n",
      " [0.]\n",
      " [0.]]\n"
     ]
    }
   ],
   "source": [
    "# d)\n",
    "zeilenV = np.zeros((1,4))\n",
    "print(\"d\", zeilenV)"
   ]
  },
  {
   "cell_type": "code",
   "execution_count": 8,
   "metadata": {},
   "outputs": [
    {
     "name": "stdout",
     "output_type": "stream",
     "text": [
      "e)\n",
      " [[0.]\n",
      " [0.]\n",
      " [0.]\n",
      " [0.]\n",
      " [0.]]\n"
     ]
    }
   ],
   "source": [
    "# e)\n",
    "spaltenV = np.zeros((5,1))\n",
    "print(\"e)\\n\", spaltenV)"
   ]
  },
  {
   "cell_type": "code",
   "execution_count": 9,
   "metadata": {},
   "outputs": [
    {
     "name": "stdout",
     "output_type": "stream",
     "text": [
      "f)\n",
      " [[0. 0. 0. 0. 0.]\n",
      " [0. 0. 0. 0. 0.]\n",
      " [0. 0. 0. 0. 0.]\n",
      " [0. 0. 0. 0. 0.]\n",
      " [0. 0. 0. 0. 0.]]\n"
     ]
    }
   ],
   "source": [
    "# f)\n",
    "spaltenV = np.zeros((5,5))\n",
    "print(\"f)\\n\", spaltenV)"
   ]
  },
  {
   "cell_type": "code",
   "execution_count": 12,
   "metadata": {},
   "outputs": [
    {
     "name": "stdout",
     "output_type": "stream",
     "text": [
      "[[0.64678281 0.93311412 0.10860509]\n",
      " [0.31988296 0.94514739 0.67739563]\n",
      " [0.23120391 0.44170706 0.45448459]\n",
      " [0.16492875 0.74301111 0.17610313]]\n",
      "g)\n",
      " [0.31988296 0.94514739 0.67739563]\n"
     ]
    }
   ],
   "source": [
    "# g)\n",
    "\n",
    "randV = np.random.rand(4,3)\n",
    "print(randV)\n",
    "print(\"g)\\n\", randV[1])\n"
   ]
  },
  {
   "cell_type": "code",
   "execution_count": 15,
   "metadata": {},
   "outputs": [
    {
     "name": "stdout",
     "output_type": "stream",
     "text": [
      "[[0.19767058 0.36144467 0.69489615 0.30698644]\n",
      " [0.00860201 0.57697994 0.19457125 0.23320023]\n",
      " [0.18039624 0.68813575 0.19468777 0.14940274]\n",
      " [0.74175418 0.64851188 0.75921908 0.52313056]]\n",
      "g)\n",
      " [0.69489615 0.19457125 0.19468777 0.75921908]\n"
     ]
    }
   ],
   "source": [
    " # h)\n",
    "\n",
    "\n",
    "randV = np.random.rand(4,4)\n",
    "print(randV)\n",
    "print(\"g)\\n\", randV[:,2])\n"
   ]
  },
  {
   "cell_type": "code",
   "execution_count": 20,
   "metadata": {},
   "outputs": [
    {
     "name": "stdout",
     "output_type": "stream",
     "text": [
      "[[1 2 3 4]]\n",
      "[[1]\n",
      " [2]\n",
      " [3]\n",
      " [4]]\n"
     ]
    }
   ],
   "source": [
    "# i)\n",
    "\n",
    "mat = np.matrix([1,2,3,4])\n",
    "print(mat)\n",
    "print(mat.T)"
   ]
  },
  {
   "cell_type": "code",
   "execution_count": 27,
   "metadata": {},
   "outputs": [
    {
     "name": "stdout",
     "output_type": "stream",
     "text": [
      "[[0.24167277 0.00324112 0.05279333 0.33242723]\n",
      " [0.07615436 0.18670739 0.17485149 0.07746877]\n",
      " [0.0646335  0.23091445 0.39819207 0.50334101]\n",
      " [0.07175011 0.17884504 0.85684735 0.00524582]]\n",
      "----\n",
      "[[0.63280768 0.63434337 0.94159066 0.27360346]\n",
      " [0.84383883 0.65757048 1.1247025  0.68859911]\n",
      " [0.71035393 0.96649518 1.77401712 0.68404897]\n",
      " [0.58140958 0.84269065 1.67078014 0.84639559]]\n"
     ]
    }
   ],
   "source": [
    "# j)\n",
    "rand1V = np.random.rand(4,4)\n",
    "rand2V = np.random.rand(4,4)\n",
    "mat1 = np.matrix(rand1V)\n",
    "mat2 = np.matrix(rand2V)\n",
    "\n",
    "print(np.multiply(mat1, mat2))\n",
    "print(\"----\")\n",
    "print(mat1@mat2)"
   ]
  },
  {
   "cell_type": "code",
   "execution_count": 4,
   "metadata": {
    "ExecuteTime": {
     "end_time": "2023-10-17T20:52:24.231951300Z",
     "start_time": "2023-10-17T20:52:24.219949900Z"
    }
   },
   "outputs": [
    {
     "name": "stdout",
     "output_type": "stream",
     "text": [
      "[[0.93854921 0.96281417 0.45762198 0.64426809]\n",
      " [0.37027951 0.59332226 0.30765768 0.57142944]\n",
      " [0.56990608 0.04142278 0.09823055 0.58860126]\n",
      " [0.2290414  0.47579151 0.4984544  0.56985549]\n",
      " [0.03117146 0.13627155 0.82204942 0.81149837]\n",
      " [0.56839059 0.7603147  0.42988434 0.89515727]\n",
      " [0.53853996 0.93950148 0.68647133 0.39332646]\n",
      " [0.16497484 0.13926514 0.99069223 0.21692374]]\n",
      "----\n",
      "[[0.93854921 0.96281417 0.45762198 0.64426809 0.03117146 0.13627155\n",
      "  0.82204942 0.81149837]\n",
      " [0.37027951 0.59332226 0.30765768 0.57142944 0.56839059 0.7603147\n",
      "  0.42988434 0.89515727]\n",
      " [0.56990608 0.04142278 0.09823055 0.58860126 0.53853996 0.93950148\n",
      "  0.68647133 0.39332646]\n",
      " [0.2290414  0.47579151 0.4984544  0.56985549 0.16497484 0.13926514\n",
      "  0.99069223 0.21692374]]\n"
     ]
    }
   ],
   "source": [
    "# k)\n",
    "\n",
    "rand1V = np.random.rand(4,4)\n",
    "rand2V = np.random.rand(4,4)\n",
    "mat1 = np.matrix(rand1V)\n",
    "mat2 = np.matrix(rand2V)\n",
    "\n",
    "print(np.concatenate((mat1, mat2), axis=0))\n",
    "print(\"----\")\n",
    "print(np.concatenate((mat1, mat2), axis=1))\n"
   ]
  },
  {
   "cell_type": "code",
   "execution_count": 9,
   "metadata": {
    "ExecuteTime": {
     "end_time": "2023-10-17T20:54:09.953062Z",
     "start_time": "2023-10-17T20:54:09.904061600Z"
    },
    "collapsed": false
   },
   "outputs": [
    {
     "name": "stdout",
     "output_type": "stream",
     "text": [
      "(4, 5)\n"
     ]
    }
   ],
   "source": [
    "# l)\n",
    "\n",
    "rand1V = np.random.rand(4,5)\n",
    "mat = np.matrix(rand1V)\n",
    "print(mat.shape)\n"
   ]
  },
  {
   "cell_type": "code",
   "execution_count": 12,
   "metadata": {
    "ExecuteTime": {
     "end_time": "2023-10-17T20:55:41.424528700Z",
     "start_time": "2023-10-17T20:55:41.410100600Z"
    },
    "collapsed": false
   },
   "outputs": [
    {
     "name": "stdout",
     "output_type": "stream",
     "text": [
      "(8, 7)\n",
      "(14, 4)\n"
     ]
    }
   ],
   "source": [
    "# m)\n",
    "\n",
    "rand1V = np.random.rand(8,7)\n",
    "mat = np.matrix(rand1V)\n",
    "print(mat.shape)\n",
    "print(mat.reshape(14,4).shape)\n",
    "\n"
   ]
  },
  {
   "cell_type": "code",
   "execution_count": 16,
   "metadata": {
    "ExecuteTime": {
     "end_time": "2023-10-17T20:57:00.309674Z",
     "start_time": "2023-10-17T20:57:00.292674100Z"
    },
    "collapsed": false
   },
   "outputs": [
    {
     "name": "stdout",
     "output_type": "stream",
     "text": [
      "(3, 1)\n",
      "(3, 10000)\n"
     ]
    }
   ],
   "source": [
    "# n) Vervielfache einen 3 × 1 Vektor so, dass eine 3 × 10000 Matrix entsteht.\n",
    "rand1V = np.random.rand(3,1)\n",
    "mat = np.matrix(rand1V)\n",
    "print(mat.shape)\n",
    "print(np.tile(mat, 10000).shape)"
   ]
  },
  {
   "cell_type": "code",
   "execution_count": 20,
   "metadata": {
    "ExecuteTime": {
     "end_time": "2023-10-17T20:58:23.523484400Z",
     "start_time": "2023-10-17T20:58:23.503487500Z"
    },
    "collapsed": false
   },
   "outputs": [
    {
     "name": "stdout",
     "output_type": "stream",
     "text": [
      "[[-0.3585119  -0.93846909 -0.38035596]\n",
      " [-0.98947939 -0.27469011 -0.76213293]\n",
      " [-0.91729315 -0.33986249 -0.91300187]]\n",
      "[[0. 0. 0.]\n",
      " [0. 0. 0.]\n",
      " [0. 0. 0.]]\n"
     ]
    }
   ],
   "source": [
    "# o)\n",
    "rand1V = np.random.rand(3,3)\n",
    "mat = np.matrix(rand1V)\n",
    "\n",
    "mat = mat * -1\n",
    "print(mat)\n",
    "mat[mat < 0] = 0\n",
    "print(mat)\n"
   ]
  },
  {
   "cell_type": "code",
   "execution_count": 21,
   "metadata": {
    "ExecuteTime": {
     "end_time": "2023-10-17T20:59:00.691236500Z",
     "start_time": "2023-10-17T20:59:00.679239900Z"
    },
    "collapsed": false
   },
   "outputs": [
    {
     "name": "stdout",
     "output_type": "stream",
     "text": [
      "[ 1  8 15 22 29 36 43 50 57 64 71 78 85 92 99]\n"
     ]
    }
   ],
   "source": [
    "# p)\n",
    "print(np.arange(1,100,7))\n"
   ]
  },
  {
   "cell_type": "code",
   "execution_count": 27,
   "metadata": {
    "ExecuteTime": {
     "end_time": "2023-10-17T21:00:54.895067300Z",
     "start_time": "2023-10-17T21:00:54.880072500Z"
    },
    "collapsed": false
   },
   "outputs": [
    {
     "name": "stdout",
     "output_type": "stream",
     "text": [
      "[[0.        ]\n",
      " [0.65699678]\n",
      " [0.        ]\n",
      " [0.01332145]\n",
      " [0.        ]\n",
      " [0.44752594]\n",
      " [0.        ]\n",
      " [0.61160473]\n",
      " [0.        ]\n",
      " [0.11924106]\n",
      " [0.        ]\n",
      " [0.87598982]\n",
      " [0.        ]\n",
      " [0.57600592]\n",
      " [0.        ]\n",
      " [0.72332835]\n",
      " [0.        ]\n",
      " [0.35850731]\n",
      " [0.        ]\n",
      " [0.35543727]\n",
      " [0.        ]\n",
      " [0.26095384]\n",
      " [0.        ]\n",
      " [0.26396834]\n",
      " [0.        ]\n",
      " [0.70095894]\n",
      " [0.        ]\n",
      " [0.9246833 ]\n",
      " [0.        ]\n",
      " [0.14524191]\n",
      " [0.        ]\n",
      " [0.3543243 ]\n",
      " [0.        ]\n",
      " [0.04882121]\n",
      " [0.        ]\n",
      " [0.13461927]\n",
      " [0.        ]\n",
      " [0.60903747]\n",
      " [0.        ]\n",
      " [0.76678702]\n",
      " [0.        ]\n",
      " [0.77838665]\n",
      " [0.        ]\n",
      " [0.6369685 ]\n",
      " [0.        ]\n",
      " [0.58850469]\n",
      " [0.        ]\n",
      " [0.39469453]\n",
      " [0.        ]\n",
      " [0.24855441]\n",
      " [0.        ]\n",
      " [0.6633029 ]\n",
      " [0.        ]\n",
      " [0.67813837]\n",
      " [0.        ]\n",
      " [0.05386108]\n",
      " [0.        ]\n",
      " [0.30186139]\n",
      " [0.        ]\n",
      " [0.8520036 ]\n",
      " [0.        ]\n",
      " [0.40653275]\n",
      " [0.        ]\n",
      " [0.74658556]\n",
      " [0.        ]\n",
      " [0.69114671]\n",
      " [0.        ]\n",
      " [0.240132  ]\n",
      " [0.        ]\n",
      " [0.9598645 ]\n",
      " [0.        ]\n",
      " [0.43917874]\n",
      " [0.        ]\n",
      " [0.78270281]\n",
      " [0.        ]\n",
      " [0.59879309]\n",
      " [0.        ]\n",
      " [0.2027014 ]\n",
      " [0.        ]\n",
      " [0.30001965]\n",
      " [0.        ]\n",
      " [0.63441526]\n",
      " [0.        ]\n",
      " [0.94259649]\n",
      " [0.        ]\n",
      " [0.41413668]\n",
      " [0.        ]\n",
      " [0.61048369]\n",
      " [0.        ]\n",
      " [0.90434988]\n",
      " [0.        ]\n",
      " [0.47717633]\n",
      " [0.        ]\n",
      " [0.59997854]\n",
      " [0.        ]\n",
      " [0.26713265]\n",
      " [0.        ]\n",
      " [0.92439094]\n",
      " [0.        ]\n",
      " [0.44382288]]\n"
     ]
    }
   ],
   "source": [
    "# q)\n",
    "\n",
    "rand1V = np.random.rand(100,1)\n",
    "mat = np.matrix(rand1V)\n",
    "mat[::2] = 0\n",
    "print(mat)"
   ]
  },
  {
   "cell_type": "code",
   "execution_count": 28,
   "metadata": {
    "ExecuteTime": {
     "end_time": "2023-10-17T21:01:29.677936800Z",
     "start_time": "2023-10-17T21:01:29.633941700Z"
    },
    "collapsed": false
   },
   "outputs": [
    {
     "name": "stdout",
     "output_type": "stream",
     "text": [
      "[[0.13311677 0.71880887 0.70526242 0.21539243 0.60408906 0.52823485\n",
      "  0.45563161 0.69265411 0.86417997 0.19546431 0.15368443 0.15053546\n",
      "  0.47958684 0.04437597 0.13506554 0.04852389 0.18659685 0.71318816\n",
      "  0.67662685 0.46891439 0.64023826 0.88846227 0.56234434 0.47136824\n",
      "  0.63608382 0.248636   0.15934896 0.55237239 0.40542106 0.40292445\n",
      "  0.70360813 0.51197188 0.24913748 0.87358918 0.1955207  0.74740112\n",
      "  0.83452852 0.90246442 0.07317076 0.77475632 0.18111003 0.55214162\n",
      "  0.42784884 0.9088997  0.46964825 0.49941036 0.09994069 0.86409169\n",
      "  0.54089336 0.07547662]]\n"
     ]
    }
   ],
   "source": [
    "# r)\n",
    "\n",
    "rand1V = np.random.rand(100,1)\n",
    "mat = np.matrix(rand1V)\n",
    "mat = np.delete(mat, np.arange(1,100,2))\n",
    "print(mat)"
   ]
  },
  {
   "cell_type": "code",
   "execution_count": 29,
   "metadata": {
    "ExecuteTime": {
     "end_time": "2023-10-17T21:01:55.919991300Z",
     "start_time": "2023-10-17T21:01:55.899991600Z"
    },
    "collapsed": false
   },
   "outputs": [
    {
     "name": "stdout",
     "output_type": "stream",
     "text": [
      "[[1. 0. 0.]\n",
      " [0. 1. 0.]\n",
      " [0. 0. 1.]]\n"
     ]
    }
   ],
   "source": [
    "# s)\n",
    "print(np.eye(3))"
   ]
  },
  {
   "cell_type": "code",
   "execution_count": 30,
   "metadata": {
    "ExecuteTime": {
     "end_time": "2023-10-17T21:03:59.670671300Z",
     "start_time": "2023-10-17T21:03:59.663671Z"
    },
    "collapsed": false
   },
   "outputs": [
    {
     "name": "stdout",
     "output_type": "stream",
     "text": [
      "[[0.10814181 0.48678493 0.05800053 0.89111601 0.8894935 ]\n",
      " [0.67928554 0.59917923 0.03950758 0.32735008 0.44774449]\n",
      " [0.58788188 0.64236784 0.24679879 0.773111   0.54720889]\n",
      " [0.24401825 0.30101408 0.88164534 0.26138361 0.67472112]\n",
      " [0.41741736 0.46839172 0.24616881 0.01564198 0.74010379]]\n",
      "[0.10814181 0.59917923 0.24679879 0.26138361 0.74010379]\n"
     ]
    }
   ],
   "source": [
    "# t) Gib die Hauptdiagonale einer 5×5 Matrix aus. Benutze dazu eine Funktion, welche die Diagonale\n",
    "# als Vektor zurückgibt.\n",
    "\n",
    "rand1V = np.random.rand(5,5)\n",
    "mat = np.matrix(rand1V)\n",
    "print(mat)\n",
    "print(np.diag(mat))"
   ]
  },
  {
   "cell_type": "code",
   "execution_count": 47,
   "metadata": {
    "ExecuteTime": {
     "end_time": "2023-10-17T21:14:45.085895300Z",
     "start_time": "2023-10-17T21:14:18.193634500Z"
    },
    "collapsed": false
   },
   "outputs": [
    {
     "name": "stdout",
     "output_type": "stream",
     "text": [
      "1.33 ms ± 83.8 µs per loop (mean ± std. dev. of 7 runs, 1,000 loops each)\n",
      "19.4 µs ± 360 ns per loop (mean ± std. dev. of 7 runs, 100,000 loops each)\n"
     ]
    }
   ],
   "source": [
    "# Nr. 3)\n",
    "# Erzeuge zwei Matrizen mit der Dimension 1000 × 3, welche mit Zufallszahlen gefüllt sind. Dabei\n",
    "# können die Zeilen einer solchen Matrix als 1 × 3 Vektoren interpretiert werden. Berechne das\n",
    "# Skalarprodukt für alle Paare dieser Vektoren unter Verwendung von Python-Schleifen. Dazu muss\n",
    "# über die Zeilen der 1000 × 3 Matrizen iteriert werden und das Skalarprodukt für die Vektoren,\n",
    "# welche durch die aktuellen Matrixzeilen gegeben sind, berechnet werden.\n",
    "# Berechne weiterhin diese Skalarprodukte ohne die Verwendung von Schleifen. Vergleiche die Laufzeiten der beiden Varianten. (Hinweis: Zum Zeitmessen kann in Python das Modul time oder der\n",
    "# Jupyter-Befehl %timeit verwendet werden). Was fällt dir auf, wenn du die Laufzeiten miteinander\n",
    "# vergleichst?\n",
    "\n",
    "rand1V = np.random.rand(1000,3)\n",
    "rand2V = np.random.rand(1000,3)\n",
    "\n",
    "def skalarprodukt(mat1, mat2):\n",
    "    skalar = []\n",
    "    for i in range(0, mat1.shape[0]):\n",
    "        skalar.append(np.dot(mat1[i], mat2[i].T))\n",
    "    return skalar\n",
    "\n",
    "def skalarprodukt2(mat1, mat2):\n",
    "    return np.sum(np.multiply(mat1, mat2), axis=1)\n",
    "\n",
    "%timeit skalarprodukt(rand1V, rand2V)\n",
    "%timeit skalarprodukt2(rand1V, rand2V)\n"
   ]
  },
  {
   "cell_type": "code",
   "execution_count": 48,
   "metadata": {
    "ExecuteTime": {
     "end_time": "2023-10-17T21:19:19.562758900Z",
     "start_time": "2023-10-17T21:19:19.515875400Z"
    },
    "collapsed": false
   },
   "outputs": [
    {
     "name": "stdout",
     "output_type": "stream",
     "text": [
      "v)\n",
      "[[34 76 98 41]\n",
      " [24 92 85 66]\n",
      " [87 88 81 64]\n",
      " ...\n",
      " [48 64 36  8]\n",
      " [65 77  2 61]\n",
      " [76 14 18  8]]\n",
      "--->\n",
      "[[-0.00677238  0.01255368  0.01618764 -0.00561612]\n",
      " [-0.01058371  0.01475305  0.01363053 -0.00384862]\n",
      " [-0.04102564  0.05641026  0.05192308 -0.05576923]\n",
      " ...\n",
      " [-0.00416667  0.03333333  0.01875    -0.025     ]\n",
      " [ 0.0160063  -0.02020467 -0.0005248   0.01705589]\n",
      " [ 0.02247191 -0.03932584 -0.0505618   0.21348315]]\n"
     ]
    }
   ],
   "source": [
    "# b\n",
    "\n",
    "matrixA = np.random.randint(0, 100, size=(1000, 4), dtype=int)\n",
    "\n",
    "det = (matrixA[:, [0]] * matrixA[:, [3]]) - (matrixA[:, [1]] * matrixA[:, [2]])\n",
    "\n",
    "indexOfDet0 = np.where(det == 0)\n",
    "\n",
    "if len(indexOfDet0[0]) != 0:\n",
    "    matrixA = np.delete(matrixA, list(indexOfDet0[0]), axis=0)\n",
    "    det = np.delete(det, list(indexOfDet0[0]), axis=0)\n",
    "\n",
    "x11 = matrixA[:, [3]] / det[:]\n",
    "x12 = -matrixA[:, [1]] / det[:]\n",
    "x21 = -matrixA[:, [2]] / det[:]\n",
    "x22 =matrixA[:, [0]] / det[:]\n",
    "\n",
    "invMatrixA = np.append(np.append(x11,x12, axis=1), np.append(x21,x22,axis=1),axis=1)\n",
    "\n",
    "print(f'v)\\n{matrixA}\\n--->')\n",
    "print(invMatrixA)"
   ]
  },
  {
   "cell_type": "code",
   "execution_count": 49,
   "metadata": {
    "ExecuteTime": {
     "end_time": "2023-10-17T21:21:00.397488900Z",
     "start_time": "2023-10-17T21:21:00.246490900Z"
    },
    "collapsed": false
   },
   "outputs": [
    {
     "data": {
      "image/png": "[encoded data removed]",
      "text/plain": [
       "<Figure size 640x480 with 1 Axes>"
      ]
     },
     "metadata": {},
     "output_type": "display_data"
    }
   ],
   "source": [
    "# Nr. 4)\n",
    "\n",
    "# a)\n",
    "\n",
    "x = np.linspace(0, 10, 20)\n",
    "y = 2 * x + np.random.normal(0, 1, 20)\n",
    "\n",
    "fit = np.polyfit(x, y, 1)\n",
    "fit_fn = np.poly1d(fit)\n",
    "\n",
    "plt.plot(x, y, 'yo', x, fit_fn(x), '--k')\n",
    "plt.show()\n",
    "\n"
   ]
  },
  {
   "cell_type": "code",
   "execution_count": 50,
   "metadata": {
    "ExecuteTime": {
     "end_time": "2023-10-17T21:21:42.401454200Z",
     "start_time": "2023-10-17T21:21:42.240449700Z"
    },
    "collapsed": false
   },
   "outputs": [
    {
     "data": {
      "image/png": "[encoded data removed]",
      "text/plain": [
       "<Figure size 640x480 with 1 Axes>"
      ]
     },
     "metadata": {},
     "output_type": "display_data"
    }
   ],
   "source": [
    "# b) Scatter Plot einer quadratischen Funktion:\n",
    "\n",
    "\n",
    "x = np.linspace(-10, 10, 20)\n",
    "y = x**2 + np.random.normal(0, 20, 20)\n",
    "\n",
    "fit = np.polyfit(x, y, 2)\n",
    "fit_fn = np.poly1d(fit)\n",
    "\n",
    "plt.plot(x, y, 'yo', x, fit_fn(x), '--k')\n",
    "plt.show()\n",
    "\n"
   ]
  }
 ],
 "metadata": {
  "kernelspec": {
   "display_name": "Python 3 (ipykernel)",
   "language": "python",
   "name": "python3"
  },
  "language_info": {
   "codemirror_mode": {
    "name": "ipython",
    "version": 3
   },
   "file_extension": ".py",
   "mimetype": "text/x-python",
   "name": "python",
   "nbconvert_exporter": "python",
   "pygments_lexer": "ipython3",
   "version": "3.10.8"
  }
 },
 "nbformat": 4,
 "nbformat_minor": 4
}
