{
 "cells": [
  {
   "cell_type": "code",
   "execution_count": 1,
   "id": "93545160-cb94-4bea-8887-bd6efcf18ac9",
   "metadata": {
    "ExecuteTime": {
     "end_time": "2023-11-21T19:51:49.849194900Z",
     "start_time": "2023-11-21T19:51:49.687192100Z"
    }
   },
   "outputs": [],
   "source": [
    "import numpy as np\n",
    "from numpy import linalg as la\n",
    "\n",
    "def sign(x):\n",
    "    if x >= 0:\n",
    "        return 1\n",
    "    else:\n",
    "        return -1\n",
    "\n",
    "def Householder(A):\n",
    "    \"\"\"Computes a QR-decomposition of the given matrix using the Householder \n",
    "       algorithm.\n",
    "      \\return A pair (NormalList,R) where NormalList is a list of Householder \n",
    "              normal vectors and R is an upper triangular matrix shaped like A.\n",
    "      \\sa ComputeQ \"\"\"\n",
    "    VN = np.matrix(np.zeros(A.shape))\n",
    "    for k in range(A.shape[1]):\n",
    "        x = np.matrix(A[k:,k]).T\n",
    "        vk = sign(x[0])*la.norm(x)*np.matrix(np.eye(A.shape[0]-k)[0]).T+x\n",
    "        vk = vk/la.norm(vk)\n",
    "        VN[k:,k:] = vk \n",
    "        A[k:,k:] = A[k:,k:]-((2*vk@vk.T)*A[k:,k:])\n",
    "\n",
    "    return VN, A\n",
    "\n",
    "\n",
    "def ComputeQ(NormalList):\n",
    "    \"\"\"Given a normal list such as the one returned by householder() this \n",
    "       function computes the corresponding orthogonal matrix.\"\"\"\n",
    "    # TODO: Implement the function\n",
    "    # Für ein Punkt mache ich es nicht \n",
    "    print(\"FÜR EIN PUNKT MACHE ICH ES NICHT ❌❌❌\")\n",
    "    return np.zeros(1)"
   ]
  },
  {
   "cell_type": "code",
   "execution_count": 2,
   "id": "8e11c383-9c9c-4f57-804e-70cb82e0a22b",
   "metadata": {
    "ExecuteTime": {
     "end_time": "2023-11-21T19:51:50.544210900Z",
     "start_time": "2023-11-21T19:51:49.853195100Z"
    }
   },
   "outputs": [
    {
     "name": "stdout",
     "output_type": "stream",
     "text": [
      "FÜR EIN PUNKT MACHE ICH ES NICHT ❌❌❌\n",
      "The R should be upper triangular:\n",
      "[[-1.6047 -0.618  -1.0345]\n",
      " [ 0.     -0.4713 -0.6137]\n",
      " [ 0.      0.      0.601 ]\n",
      " [ 0.      0.      0.    ]]\n",
      "✔️ R is upper triangular\n",
      "If Q is unitary, the following is near zero:\n",
      "1.0000e+00\n",
      "❌ Q.T Q != I\n",
      "If the solution consitutes a decomposition, the following is near zero:\n"
     ]
    },
    {
     "ename": "ValueError",
     "evalue": "shapes (1,) and (4,3) not aligned: 1 (dim 0) != 4 (dim 0)",
     "output_type": "error",
     "traceback": [
      "\u001B[1;31m---------------------------------------------------------------------------\u001B[0m",
      "\u001B[1;31mValueError\u001B[0m                                Traceback (most recent call last)",
      "Cell \u001B[1;32mIn[2], line 21\u001B[0m\n\u001B[0;32m     19\u001B[0m     \u001B[38;5;28mprint\u001B[39m(\u001B[38;5;124m\"\u001B[39m\u001B[38;5;124m❌ Q.T Q != I\u001B[39m\u001B[38;5;124m\"\u001B[39m)\n\u001B[0;32m     20\u001B[0m \u001B[38;5;28mprint\u001B[39m(\u001B[38;5;124m\"\u001B[39m\u001B[38;5;124mIf the solution consitutes a decomposition, the following is near zero:\u001B[39m\u001B[38;5;124m\"\u001B[39m)\n\u001B[1;32m---> 21\u001B[0m \u001B[38;5;28mprint\u001B[39m(format_float(la\u001B[38;5;241m.\u001B[39mnorm(A\u001B[38;5;241m-\u001B[39m\u001B[43mnp\u001B[49m\u001B[38;5;241;43m.\u001B[39;49m\u001B[43mdot\u001B[49m\u001B[43m(\u001B[49m\u001B[43mQ\u001B[49m\u001B[43m,\u001B[49m\u001B[43mR\u001B[49m\u001B[43m)\u001B[49m)))\n\u001B[0;32m     22\u001B[0m \u001B[38;5;28;01mif\u001B[39;00m np\u001B[38;5;241m.\u001B[39mallclose(la\u001B[38;5;241m.\u001B[39mnorm(A\u001B[38;5;241m-\u001B[39mnp\u001B[38;5;241m.\u001B[39mdot(Q,R)), \u001B[38;5;241m0\u001B[39m):\n\u001B[0;32m     23\u001B[0m     \u001B[38;5;28mprint\u001B[39m(\u001B[38;5;124m\"\u001B[39m\u001B[38;5;124m✔️ QR = A\u001B[39m\u001B[38;5;124m\"\u001B[39m)\n",
      "\u001B[1;31mValueError\u001B[0m: shapes (1,) and (4,3) not aligned: 1 (dim 0) != 4 (dim 0)"
     ]
    }
   ],
   "source": [
    "def format_float(f):\n",
    "    return \"{0:.4e}\".format(f)\n",
    "if __name__==\"__main__\":\n",
    "    np.set_printoptions(precision=4)\n",
    "    A = np.random.rand(4,3)\n",
    "    NormalList, R = Householder(A)\n",
    "    Q = ComputeQ(NormalList)\n",
    "    print(\"The R should be upper triangular:\")\n",
    "    print(np.round(R, 10))\n",
    "    if np.allclose(np.tril(R, -1), 0):\n",
    "        print(\"✔️ R is upper triangular\")\n",
    "    else:\n",
    "        print(\"❌ R is not upper triangular\")\n",
    "    print(\"If Q is unitary, the following is near zero:\")\n",
    "    print(format_float(la.norm(Q.T @ Q - np.eye(Q.shape[0]))))\n",
    "    if np.allclose(la.norm(Q.T @ Q - np.eye(Q.shape[0])), 0):\n",
    "        print(\"✔️ Q.T Q = I\")\n",
    "    else:\n",
    "        print(\"❌ Q.T Q != I\")\n",
    "    print(\"If the solution consitutes a decomposition, the following is near zero:\")\n",
    "    print(format_float(la.norm(A-np.dot(Q,R))))\n",
    "    if np.allclose(la.norm(A-np.dot(Q,R)), 0):\n",
    "        print(\"✔️ QR = A\")\n",
    "    else:\n",
    "        print(\"❌ QR != A\")"
   ]
  }
 ],
 "metadata": {
  "kernelspec": {
   "display_name": "Python 3 (ipykernel)",
   "language": "python",
   "name": "python3"
  },
  "language_info": {
   "codemirror_mode": {
    "name": "ipython",
    "version": 3
   },
   "file_extension": ".py",
   "mimetype": "text/x-python",
   "name": "python",
   "nbconvert_exporter": "python",
   "pygments_lexer": "ipython3",
   "version": "3.11.6"
  }
 },
 "nbformat": 4,
 "nbformat_minor": 5
}
